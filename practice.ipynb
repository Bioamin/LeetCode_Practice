{
 "cells": [
  {
   "cell_type": "code",
   "execution_count": null,
   "metadata": {},
   "outputs": [],
   "source": [
    "s=[1,2,3,4,5,6,7,8,9,10]\n"
   ]
  },
  {
   "cell_type": "code",
   "execution_count": 9,
   "metadata": {},
   "outputs": [
    {
     "name": "stdout",
     "output_type": "stream",
     "text": [
      "Quotient:  3\n",
      "Remainder:  1\n"
     ]
    }
   ],
   "source": [
    "q, r = divmod(10, 3)\n",
    "print(\"Quotient: \", q)\n",
    "print(\"Remainder: \", r)"
   ]
  },
  {
   "cell_type": "code",
   "execution_count": 278,
   "metadata": {},
   "outputs": [
    {
     "name": "stdout",
     "output_type": "stream",
     "text": [
      "483\n"
     ]
    }
   ],
   "source": [
    "Rom_dict_comb={\"IV\":4, \"IX\":9, \"XL\":40, \"XC\":90, \"CD\":400, \"CM\":900}\n",
    "Rom_dict={\"I\":1, \"V\":5, \"X\":10, \"L\":50, \"C\":100, \"D\":500, \"M\":1000, \"_\":0}\n",
    "value=0\n",
    "s=\"XVIIVIVIXLCD\"\n",
    "for i in Rom_dict_comb:\n",
    "    if i in s:\n",
    "        count = s.count(i)\n",
    "        value+=(count * Rom_dict_comb[i])\n",
    "        s=s.replace(i, '_')\n",
    "for j in Rom_dict:\n",
    "    if j in s:\n",
    "        count = s.count(j)\n",
    "        value+=(count * Rom_dict[j])\n",
    "print(value)"
   ]
  },
  {
   "cell_type": "code",
   "execution_count": 263,
   "metadata": {},
   "outputs": [],
   "source": [
    "s=\"XLCIXMIV\"\n",
    "s=s.replace(\"XL\", '')\n",
    "v=s.count(\"L\")"
   ]
  },
  {
   "cell_type": "code",
   "execution_count": 271,
   "metadata": {},
   "outputs": [
    {
     "data": {
      "text/plain": [
       "3"
      ]
     },
     "execution_count": 271,
     "metadata": {},
     "output_type": "execute_result"
    }
   ],
   "source": [
    "s = \"XLXLLXLCIXMIV\"\n",
    "b=s.count('XL')\n",
    "b"
   ]
  },
  {
   "cell_type": "code",
   "execution_count": 149,
   "metadata": {
    "scrolled": true
   },
   "outputs": [
    {
     "data": {
      "text/plain": [
       "65"
      ]
     },
     "execution_count": 149,
     "metadata": {},
     "output_type": "execute_result"
    }
   ],
   "source": [
    "#ASCI NUMBER\n",
    "ord(\"A\")"
   ]
  },
  {
   "cell_type": "code",
   "execution_count": 155,
   "metadata": {},
   "outputs": [
    {
     "name": "stdout",
     "output_type": "stream",
     "text": [
      "421\n"
     ]
    }
   ],
   "source": [
    "h=0\n",
    "for i in \"amin\":\n",
    "    h+=ord(i)\n",
    "print(h)"
   ]
  },
  {
   "cell_type": "code",
   "execution_count": 156,
   "metadata": {},
   "outputs": [],
   "source": [
    "def ascifinder (name):\n",
    "    h=0\n",
    "    for char in name:\n",
    "        h+=ord(char)\n",
    "    return (h)\n",
    "        \n"
   ]
  },
  {
   "cell_type": "code",
   "execution_count": 159,
   "metadata": {},
   "outputs": [
    {
     "data": {
      "text/plain": [
       "1350"
      ]
     },
     "execution_count": 159,
     "metadata": {},
     "output_type": "execute_result"
    }
   ],
   "source": [
    "ascifinder(\"Amin Boroomand\")"
   ]
  },
  {
   "cell_type": "code",
   "execution_count": 168,
   "metadata": {},
   "outputs": [],
   "source": [
    "amin_dict={}\n",
    "amin_dict[\"Name\"]= \"Amin\"\n",
    "amin_dict[\"Age\"]=34\n",
    "amin_dict[\"last_name\"]=\"Boroomand\""
   ]
  },
  {
   "cell_type": "code",
   "execution_count": 170,
   "metadata": {},
   "outputs": [
    {
     "data": {
      "text/plain": [
       "34"
      ]
     },
     "execution_count": 170,
     "metadata": {},
     "output_type": "execute_result"
    }
   ],
   "source": [
    "amin_dict[\"Age\"]"
   ]
  },
  {
   "cell_type": "code",
   "execution_count": 217,
   "metadata": {},
   "outputs": [
    {
     "name": "stdout",
     "output_type": "stream",
     "text": [
      "0 5\n",
      "1 4\n",
      "3 2\n",
      "4 1\n"
     ]
    }
   ],
   "source": [
    "nums=[1,2,3,4,5,6,7,8]\n",
    "target= 6\n",
    "sumdict={}\n",
    "for i in range(len(nums)):\n",
    "    sumdict[nums[i]]=i\n",
    "for i in range (len(nums)):\n",
    "    complement=target - nums[i]\n",
    "    if complement in sumdict and sumdict[complement] != i:\n",
    "        return[i, sumdict[complement]]\n",
    "    \n",
    "    "
   ]
  },
  {
   "cell_type": "code",
   "execution_count": 210,
   "metadata": {},
   "outputs": [
    {
     "data": {
      "text/plain": [
       "[1, 0]"
      ]
     },
     "execution_count": 210,
     "metadata": {},
     "output_type": "execute_result"
    }
   ],
   "source": [
    "nums=[3,3]\n",
    "target= 6\n",
    "def twoSum(nums, target):\n",
    "    for i in range (len(nums) ):\n",
    "        complement=target - nums[i]\n",
    "        if complement in nums and nums.index(complement) != i:\n",
    "            return [i, nums.index(complement)]\n",
    "\n",
    "twoSum(nums, target)\n"
   ]
  },
  {
   "cell_type": "code",
   "execution_count": 199,
   "metadata": {},
   "outputs": [
    {
     "name": "stdout",
     "output_type": "stream",
     "text": [
      "3\n",
      "3\n",
      "3\n",
      "3\n"
     ]
    }
   ],
   "source": [
    "nums=[3,3]\n",
    "target= 6\n",
    "for i in nums:\n",
    "    complement = target - i\n",
    "    #print(complement)\n",
    "    for complement in nums:      #and nums.index(complement) != nums.index(i):\n",
    "        print(complement)\n",
    "        #print (nums.index(complement)) "
   ]
  },
  {
   "cell_type": "code",
   "execution_count": null,
   "metadata": {},
   "outputs": [],
   "source": []
  },
  {
   "cell_type": "code",
   "execution_count": 173,
   "metadata": {},
   "outputs": [
    {
     "name": "stdout",
     "output_type": "stream",
     "text": [
      "1 9\n",
      "2 8\n",
      "3 7\n",
      "4 6\n",
      "5 5\n",
      "6 4\n",
      "7 3\n",
      "8 2\n",
      "9 1\n"
     ]
    }
   ],
   "source": [
    "nums=[1,2,3,4,5,6,7,8,9]\n",
    "target= 10\n",
    "subtract_dict={}\n",
    "for i in range (len (nums)):\n",
    "    b=target-nums[i]\n",
    "    if b in nums:\n",
    "        print(nums[i],b)\n",
    "\n",
    "    \n",
    "    \n",
    "    \n",
    "    "
   ]
  },
  {
   "cell_type": "code",
   "execution_count": 184,
   "metadata": {},
   "outputs": [
    {
     "name": "stdout",
     "output_type": "stream",
     "text": [
      "[2, 6]\n",
      "[3, 5]\n",
      "[5, 3]\n",
      "[6, 2]\n"
     ]
    }
   ],
   "source": [
    "nums=[1,2,3,4,5,6,7]\n",
    "target= 10\n",
    "hashmap = {}\n",
    "for i in range(len(nums)):\n",
    "    hashmap[nums[i]] = i\n",
    "for i in range(len(nums)):\n",
    "    complement = target - nums[i]\n",
    "    if complement in hashmap and hashmap[complement] != i:\n",
    "        print( [i, hashmap[complement]] )"
   ]
  },
  {
   "cell_type": "code",
   "execution_count": 182,
   "metadata": {},
   "outputs": [],
   "source": [
    "\n",
    "def twoSum( nums, target): \n",
    "    hashmap = {}\n",
    "    for i in range(len(nums)):\n",
    "        hashmap[nums[i]] = i\n",
    "    for i in range(len(nums)):\n",
    "        complement = target - nums[i]\n",
    "        if complement in hashmap and hashmap[complement] != i:\n",
    "            return [i, hashmap[complement]] "
   ]
  },
  {
   "cell_type": "code",
   "execution_count": 185,
   "metadata": {},
   "outputs": [
    {
     "data": {
      "text/plain": [
       "[2, 6]"
      ]
     },
     "execution_count": 185,
     "metadata": {},
     "output_type": "execute_result"
    }
   ],
   "source": [
    "twoSum( nums, target)"
   ]
  },
  {
   "cell_type": "code",
   "execution_count": 118,
   "metadata": {},
   "outputs": [],
   "source": [
    "def twoSum(nums,target):\n",
    "    for item_a in range(len(nums)):\n",
    "        print(nums(item_a))\n",
    "        #for item_b in "
   ]
  },
  {
   "cell_type": "code",
   "execution_count": 160,
   "metadata": {},
   "outputs": [
    {
     "ename": "SyntaxError",
     "evalue": "'return' outside function (<ipython-input-160-83ab9dd04717>, line 6)",
     "output_type": "error",
     "traceback": [
      "\u001b[0;36m  File \u001b[0;32m\"<ipython-input-160-83ab9dd04717>\"\u001b[0;36m, line \u001b[0;32m6\u001b[0m\n\u001b[0;31m    return(nums[item_a], nums[item_b])\u001b[0m\n\u001b[0m    ^\u001b[0m\n\u001b[0;31mSyntaxError\u001b[0m\u001b[0;31m:\u001b[0m 'return' outside function\n"
     ]
    }
   ],
   "source": [
    "nums=[1,2,3,4,5,6,7]\n",
    "target= 10\n",
    "for item_a in range(len(nums)):\n",
    "    for item_b in range (item_a+1,len(nums)):\n",
    "        if nums[item_a] + nums[item_b] == target:\n",
    "            return(nums[item_a], nums[item_b])\n",
    "\n"
   ]
  },
  {
   "cell_type": "code",
   "execution_count": 145,
   "metadata": {},
   "outputs": [
    {
     "name": "stdout",
     "output_type": "stream",
     "text": [
      "5\n"
     ]
    }
   ],
   "source": [
    "nums=[1,2,3,4,5,6,7,6]\n",
    "print(nums.index(6))\n",
    "target= 10\n",
    "# for i in (nums):\n",
    "#     if(target - i) in nums:\n",
    "#         print(i)\n",
    "\n"
   ]
  },
  {
   "cell_type": "code",
   "execution_count": 60,
   "metadata": {},
   "outputs": [],
   "source": [
    "def twoSumb(nums, target):\n",
    "    n=-1\n",
    "    for item_a in nums:\n",
    "        n=n+1\n",
    "        for item_b in nums[n:len(nums)]:\n",
    "            if item_a + item_b == target:\n",
    "                index_A=numberlist.index(item_a)\n",
    "                index_B=numberlist.index(item_b)\n",
    "                return([index_A, index_B])"
   ]
  },
  {
   "cell_type": "code",
   "execution_count": 79,
   "metadata": {},
   "outputs": [
    {
     "name": "stdout",
     "output_type": "stream",
     "text": [
      "5\n"
     ]
    },
    {
     "data": {
      "text/plain": [
       "[8]"
      ]
     },
     "execution_count": 79,
     "metadata": {},
     "output_type": "execute_result"
    }
   ],
   "source": [
    "nums=[3,3,5,7,8]\n",
    "print(len(nums))\n",
    "nums[4:len(nums)]"
   ]
  },
  {
   "cell_type": "code",
   "execution_count": 109,
   "metadata": {},
   "outputs": [
    {
     "name": "stdout",
     "output_type": "stream",
     "text": [
      "[2, 3, 4, 5, 6]\n",
      "[3, 4, 5, 6]\n",
      "[4, 5, 6]\n",
      "[5, 6]\n",
      "[6]\n",
      "[]\n"
     ]
    }
   ],
   "source": [
    "nums=[1,2,3,4,5,6]\n",
    "target=6\n",
    "n=0\n",
    "for item_a in nums:\n",
    "    n=n+1\n",
    "    print(nums[n:len(nums)])\n",
    "    for item_b in nums[n:len(nums)]:\n",
    "        #print(item_a,item_b)\n",
    "        if item_a + item_b == target:\n",
    "            index_A=numberlist.index(item_a)\n",
    "            index_B=numberlist.index(item_b)\n",
    "            #print([index_A, index_B])"
   ]
  },
  {
   "cell_type": "code",
   "execution_count": 117,
   "metadata": {},
   "outputs": [
    {
     "name": "stdout",
     "output_type": "stream",
     "text": [
      "1 I\n",
      "2\n",
      "3\n",
      "4\n",
      "5\n",
      "6\n",
      "2 I\n",
      "3\n",
      "4\n",
      "5\n",
      "6\n",
      "3 I\n",
      "4\n",
      "5\n",
      "6\n",
      "4 I\n",
      "5\n",
      "6\n",
      "5 I\n",
      "6\n",
      "6 I\n"
     ]
    }
   ],
   "source": [
    "nums=[1,2,3,4,5,6]\n",
    "target=6\n",
    "n=0\n",
    "for i in range(len(nums)):\n",
    "    #print (nums[i], \"I\")\n",
    "    for j in range (i+1,len(nums)):\n",
    "        if i+j=target\n",
    "        return[]\n",
    "\n",
    "   \n",
    "\n"
   ]
  },
  {
   "cell_type": "code",
   "execution_count": 108,
   "metadata": {},
   "outputs": [
    {
     "name": "stdout",
     "output_type": "stream",
     "text": [
      "3 3\n"
     ]
    }
   ],
   "source": [
    "mylist=[3,3]\n",
    "target= 6\n",
    "n=0\n",
    "for i in mylist:\n",
    "    n=1+n\n",
    "    for j in mylist[n:len(mylist)]:\n",
    "        if i+j == target:\n",
    "            print(i,j)"
   ]
  },
  {
   "cell_type": "code",
   "execution_count": 35,
   "metadata": {},
   "outputs": [],
   "source": [
    "def index_finder (nums):\n",
    "    index_list=[]\n",
    "    for item_a in nums:\n",
    "        for item_b in nums:\n",
    "            if item_a + item_b == 10:\n",
    "                index_A=numberlist.index(item_a)\n",
    "                index_B=numberlist.index(item_b)\n",
    "                index_list.append([index_A, index_B])\n",
    "    return(index_list)\n"
   ]
  },
  {
   "cell_type": "code",
   "execution_count": 32,
   "metadata": {},
   "outputs": [],
   "source": [
    "def twoSum( nums: list[int], target : int):\n",
    "        index_list=[]\n",
    "        for item_a in nums:\n",
    "            for item_b in nums:\n",
    "                if item_a + item_b == target:\n",
    "                    index_A=numberlist.index(item_a)\n",
    "                    index_B=numberlist.index(item_b)\n",
    "                    index_list.append([index_A, index_B])\n",
    "        return(index_list)"
   ]
  },
  {
   "cell_type": "code",
   "execution_count": 29,
   "metadata": {},
   "outputs": [],
   "source": [
    "def twoSum( nums: list[int], target : int):\n",
    "        item_list=[]\n",
    "        for item_a in nums:\n",
    "            for item_b in nums:\n",
    "                if item_a + item_b == target:\n",
    "                    item_list.append([item_a, item_b])\n",
    "        return(item_list)"
   ]
  },
  {
   "cell_type": "code",
   "execution_count": 31,
   "metadata": {},
   "outputs": [
    {
     "data": {
      "text/plain": [
       "[[2, 7], [7, 2]]"
      ]
     },
     "execution_count": 31,
     "metadata": {},
     "output_type": "execute_result"
    }
   ],
   "source": [
    "twoSum([2,7,11,15], 9)"
   ]
  },
  {
   "cell_type": "code",
   "execution_count": 24,
   "metadata": {},
   "outputs": [
    {
     "data": {
      "text/plain": [
       "[[1, 7], [2, 6], [3, 5], [4, 4], [5, 3], [6, 2], [7, 1]]"
      ]
     },
     "execution_count": 24,
     "metadata": {},
     "output_type": "execute_result"
    }
   ],
   "source": [
    "nums=[1,2,3,4,5,6,7,8]\n",
    "index_finder (nums)"
   ]
  },
  {
   "cell_type": "code",
   "execution_count": 10,
   "metadata": {},
   "outputs": [
    {
     "name": "stdout",
     "output_type": "stream",
     "text": [
      "2\n"
     ]
    }
   ],
   "source": [
    "numberlist=[1,2,3,4,5,6,7,8]\n",
    "\n",
    "print(numberlist[1])"
   ]
  },
  {
   "cell_type": "code",
   "execution_count": 2,
   "metadata": {},
   "outputs": [],
   "source": [
    "#Amin Practicing python July 2022.\n",
    "##OOP object oriented programing"
   ]
  },
  {
   "cell_type": "code",
   "execution_count": 6,
   "metadata": {},
   "outputs": [
    {
     "data": {
      "text/plain": [
       "(16598, 11)"
      ]
     },
     "execution_count": 6,
     "metadata": {},
     "output_type": "execute_result"
    }
   ],
   "source": [
    "import pandas as pd\n",
    "df = pd.read_csv(\"vgsales.csv\")\n",
    "df.values \n",
    "df.shape\n"
   ]
  },
  {
   "cell_type": "code",
   "execution_count": 27,
   "metadata": {},
   "outputs": [],
   "source": [
    "def adding (a:int, b:float):  \n",
    "    return (a+b)\n",
    "\n"
   ]
  },
  {
   "cell_type": "code",
   "execution_count": 46,
   "metadata": {},
   "outputs": [],
   "source": [
    "def even_finder (x:int):\n",
    "    if x >0 :\n",
    "        if (x% 2)==0:\n",
    "            return (print(\"even number\"))\n",
    "        if (x% 2)!=0:\n",
    "                return (print(\"odd number\"))"
   ]
  },
  {
   "cell_type": "code",
   "execution_count": 114,
   "metadata": {},
   "outputs": [],
   "source": [
    "x='abscdr'\n",
    "z=1234567\n",
    "#even_finder(x)"
   ]
  },
  {
   "cell_type": "code",
   "execution_count": 115,
   "metadata": {},
   "outputs": [
    {
     "name": "stdout",
     "output_type": "stream",
     "text": [
      "6\n"
     ]
    }
   ],
   "source": [
    "len_X= len(str(x))\n",
    "print(len_X)"
   ]
  },
  {
   "cell_type": "code",
   "execution_count": 122,
   "metadata": {},
   "outputs": [
    {
     "name": "stdout",
     "output_type": "stream",
     "text": [
      "rdcsba\n"
     ]
    }
   ],
   "source": [
    "x='abscdr'\n",
    "reverse_list=[]\n",
    "len_X= len(str(x))\n",
    "for i in range (len_X):\n",
    "    index = len_X-1-i\n",
    "    reverse_list.append((str(x) [index]))\n",
    "print(''.join(reverse_list))"
   ]
  },
  {
   "cell_type": "code",
   "execution_count": 123,
   "metadata": {},
   "outputs": [],
   "source": [
    "y=len(str(x))\n",
    "int((y-1)/2)\n",
    "x=12345"
   ]
  },
  {
   "cell_type": "code",
   "execution_count": 125,
   "metadata": {},
   "outputs": [
    {
     "data": {
      "text/plain": [
       "'345'"
      ]
     },
     "execution_count": 125,
     "metadata": {},
     "output_type": "execute_result"
    }
   ],
   "source": [
    "str(x)[2:]"
   ]
  },
  {
   "cell_type": "code",
   "execution_count": 83,
   "metadata": {},
   "outputs": [
    {
     "data": {
      "text/plain": [
       "'45'"
      ]
     },
     "execution_count": 83,
     "metadata": {},
     "output_type": "execute_result"
    }
   ],
   "source": [
    "str(x)[0:int((y-1)/2)+1]  \n",
    "str(x)[int((y-1)/2)+1:]   "
   ]
  },
  {
   "cell_type": "code",
   "execution_count": 54,
   "metadata": {},
   "outputs": [
    {
     "name": "stdout",
     "output_type": "stream",
     "text": [
      "same\n"
     ]
    }
   ],
   "source": [
    "if str(x) == str (y) :\n",
    "    print (\"same\")\n",
    "else:\n",
    "    print (\"not the same\")"
   ]
  },
  {
   "cell_type": "code",
   "execution_count": 131,
   "metadata": {},
   "outputs": [],
   "source": [
    "class Solution:\n",
    "    def isPalindrome(self, x: int) -> bool:\n",
    "        len_str=len(str(x)) \n",
    "        if int(len_str)% 2 != 0:\n",
    "            half_len= int ((len_str -1)/2)\n",
    "            if  str(x)[0:half_len] == ''.join(reversed(str(x)[half_len+1:])):\n",
    "                return \"TRUE\""
   ]
  },
  {
   "cell_type": "code",
   "execution_count": 128,
   "metadata": {},
   "outputs": [],
   "source": [
    "def isPalindrome(x):\n",
    "    len_str=len(str(x)) \n",
    "    if len_str% 2 != 0:\n",
    "        half_len= int ((len_str -1)/2)\n",
    "        if  str(x)[0:half_len] == ''.join(reversed(str(x)[half_len+1:])):\n",
    "            return \"TRUE\""
   ]
  },
  {
   "cell_type": "code",
   "execution_count": 130,
   "metadata": {},
   "outputs": [],
   "source": [
    "isPalindrome(13321)"
   ]
  },
  {
   "cell_type": "code",
   "execution_count": 132,
   "metadata": {},
   "outputs": [],
   "source": [
    "c=123\n"
   ]
  },
  {
   "cell_type": "code",
   "execution_count": 133,
   "metadata": {},
   "outputs": [
    {
     "name": "stdout",
     "output_type": "stream",
     "text": [
      "that is right\n"
     ]
    }
   ],
   "source": [
    "if c>2 and c!=0:\n",
    "    print(\"that is right\")"
   ]
  },
  {
   "cell_type": "code",
   "execution_count": null,
   "metadata": {},
   "outputs": [],
   "source": []
  }
 ],
 "metadata": {
  "kernelspec": {
   "display_name": "Python 3",
   "language": "python",
   "name": "python3"
  },
  "language_info": {
   "codemirror_mode": {
    "name": "ipython",
    "version": 3
   },
   "file_extension": ".py",
   "mimetype": "text/x-python",
   "name": "python",
   "nbconvert_exporter": "python",
   "pygments_lexer": "ipython3",
   "version": "3.8.5"
  }
 },
 "nbformat": 4,
 "nbformat_minor": 5
}
