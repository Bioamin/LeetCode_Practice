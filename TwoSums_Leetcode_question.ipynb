{
 "cells": [
  {
   "cell_type": "markdown",
   "id": "f6030fd4",
   "metadata": {},
   "source": [
    "Given an array of integers nums and an integer target, return indices of the two numbers such that they add up to target.\n",
    "\n",
    "You may assume that each input would have exactly one solution, and you may not use the same element twice.\n",
    "\n",
    "You can return the answer in any order.\n",
    "\n",
    "Example 1:\n",
    "\n",
    "Input: nums = [2,7,11,15], target = 9\n",
    "Output: [0,1]\n",
    "Explanation: Because nums[0] + nums[1] == 9, we return [0, 1]."
   ]
  },
  {
   "cell_type": "code",
   "execution_count": 44,
   "id": "1a4a4a9f",
   "metadata": {},
   "outputs": [],
   "source": [
    "#solution: making a dictionary \n",
    "def twoSum(nums, target):\n",
    "    sumdict={}\n",
    "    for i in range(len(nums)):\n",
    "        sumdict[nums[i]]=i\n",
    "    for i in range (len(nums)):\n",
    "        complement=target - nums[i]\n",
    "        if complement in sumdict and sumdict[complement] != i:\n",
    "            return[i, sumdict[complement]]"
   ]
  },
  {
   "cell_type": "code",
   "execution_count": 45,
   "id": "5586996f",
   "metadata": {},
   "outputs": [],
   "source": [
    "#solution 1: using the python embded dictionary\n",
    "def twoSum_one(nums, target):\n",
    "    for i in range (len(nums)):\n",
    "        complement=target - nums[i]\n",
    "        if complement in nums and nums.index(complement) != i:\n",
    "            return [i, nums.index(complement)]"
   ]
  },
  {
   "cell_type": "code",
   "execution_count": 46,
   "id": "b040c88d",
   "metadata": {},
   "outputs": [],
   "source": [
    "#solution 2: using for loop\n",
    "def twoSum_two(nums, target):\n",
    "    index_list=[]\n",
    "    for item_a in range(len(nums)):\n",
    "        for item_b in range (item_a+1,len(nums)):\n",
    "            if nums[item_a] + nums[item_b] == target:\n",
    "                index_list.append([item_a, item_b])\n",
    "    return(index_list)"
   ]
  },
  {
   "cell_type": "code",
   "execution_count": 47,
   "id": "fdf23f29",
   "metadata": {},
   "outputs": [],
   "source": [
    "#test\n",
    "nums=[1,2,3,4,5,6,7]\n",
    "target=10"
   ]
  },
  {
   "cell_type": "code",
   "execution_count": 48,
   "id": "6b8f4e69",
   "metadata": {},
   "outputs": [
    {
     "data": {
      "text/plain": [
       "[2, 6]"
      ]
     },
     "execution_count": 48,
     "metadata": {},
     "output_type": "execute_result"
    }
   ],
   "source": [
    "twoSum (nums, target)"
   ]
  },
  {
   "cell_type": "code",
   "execution_count": 49,
   "id": "320760f1",
   "metadata": {},
   "outputs": [
    {
     "data": {
      "text/plain": [
       "[2, 6]"
      ]
     },
     "execution_count": 49,
     "metadata": {},
     "output_type": "execute_result"
    }
   ],
   "source": [
    "twoSum_one (nums, target)"
   ]
  },
  {
   "cell_type": "code",
   "execution_count": 50,
   "id": "ad2aaf91",
   "metadata": {},
   "outputs": [
    {
     "data": {
      "text/plain": [
       "[[2, 6], [3, 5]]"
      ]
     },
     "execution_count": 50,
     "metadata": {},
     "output_type": "execute_result"
    }
   ],
   "source": [
    "twoSum_two (nums, target)"
   ]
  },
  {
   "cell_type": "code",
   "execution_count": null,
   "id": "03c8ce45",
   "metadata": {},
   "outputs": [],
   "source": []
  }
 ],
 "metadata": {
  "kernelspec": {
   "display_name": "Python 3",
   "language": "python",
   "name": "python3"
  },
  "language_info": {
   "codemirror_mode": {
    "name": "ipython",
    "version": 3
   },
   "file_extension": ".py",
   "mimetype": "text/x-python",
   "name": "python",
   "nbconvert_exporter": "python",
   "pygments_lexer": "ipython3",
   "version": "3.9.1"
  }
 },
 "nbformat": 4,
 "nbformat_minor": 5
}
