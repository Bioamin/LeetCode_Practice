{
 "cells": [
  {
   "cell_type": "markdown",
   "metadata": {},
   "source": [
    "Roman numerals are represented by seven different symbols: I, V, X, L, C, D and M.\n",
    "\n",
    "Symbol       Value\n",
    "I             1\n",
    "V             5\n",
    "X             10\n",
    "L             50\n",
    "C             100\n",
    "D             500\n",
    "M             1000\n",
    "For example, 2 is written as II in Roman numeral, just two ones added together. 12 is written as XII, which is simply X + II. The number 27 is written as XXVII, which is XX + V + II.\n",
    "\n",
    "Roman numerals are usually written largest to smallest from left to right. However, the numeral for four is not IIII. Instead, the number four is written as IV. Because the one is before the five we subtract it making four. The same principle applies to the number nine, which is written as IX. There are six instances where subtraction is used:\n",
    "\n",
    "I can be placed before V (5) and X (10) to make 4 and 9. \n",
    "X can be placed before L (50) and C (100) to make 40 and 90. \n",
    "C can be placed before D (500) and M (1000) to make 400 and 900.\n",
    "Given a roman numeral, convert it to an integer."
   ]
  },
  {
   "cell_type": "code",
   "execution_count": 1,
   "metadata": {},
   "outputs": [],
   "source": [
    "#solution 1\n",
    "#This solution might be wrong in some cases. This is becuase who roman numbers wrok: from left to right. \n",
    "def romanToInt (s):\n",
    "    Rom_dict_comb={\"IV\":4, \"IX\":9, \"XL\":40, \"XC\":90, \"CD\":400, \"CM\":900}\n",
    "    Rom_dict={\"I\":1, \"V\":5, \"X\":10, \"L\":50, \"C\":100, \"D\":500, \"M\":1000, \"_\":0}\n",
    "    value=0\n",
    "    for i in Rom_dict_comb:\n",
    "        if i in s:\n",
    "            count = s.count(i)\n",
    "            value+=(count * Rom_dict_comb[i])\n",
    "            s=s.replace(i, '_')\n",
    "    for j in Rom_dict:\n",
    "        if j in s:\n",
    "            count = s.count(j)\n",
    "            value+=(count * Rom_dict[j])\n",
    "    return(value)\n",
    "\n"
   ]
  },
  {
   "cell_type": "code",
   "execution_count": 3,
   "metadata": {},
   "outputs": [],
   "source": [
    "#solution 2\n",
    "def romanToInt_1 (s):\n",
    "    romandict={\"I\":1, \"V\":5, \"X\":10, \"L\":50, \"C\":100, \"D\":500, \"M\":1000}\n",
    "    i=0\n",
    "    total=0\n",
    "    while i < len(s):\n",
    "        if len(s)-i >= 2 and romandict[s[i]]< romandict[s[i+1]]:\n",
    "                total+=(romandict[s[i+1]]-romandict[s[i]])\n",
    "                i+=2\n",
    "        else:\n",
    "            total+=romandict[s[i]]\n",
    "            i+=1\n",
    "    return(total)\n",
    "            "
   ]
  },
  {
   "cell_type": "code",
   "execution_count": 2,
   "metadata": {},
   "outputs": [
    {
     "data": {
      "text/plain": [
       "483"
      ]
     },
     "execution_count": 2,
     "metadata": {},
     "output_type": "execute_result"
    }
   ],
   "source": [
    "s=\"XVIIVIVIXLCD\"\n",
    "romanToInt (s)"
   ]
  },
  {
   "cell_type": "code",
   "execution_count": null,
   "metadata": {},
   "outputs": [],
   "source": []
  }
 ],
 "metadata": {
  "kernelspec": {
   "display_name": "Python 3",
   "language": "python",
   "name": "python3"
  },
  "language_info": {
   "codemirror_mode": {
    "name": "ipython",
    "version": 3
   },
   "file_extension": ".py",
   "mimetype": "text/x-python",
   "name": "python",
   "nbconvert_exporter": "python",
   "pygments_lexer": "ipython3",
   "version": "3.8.5"
  }
 },
 "nbformat": 4,
 "nbformat_minor": 5
}
