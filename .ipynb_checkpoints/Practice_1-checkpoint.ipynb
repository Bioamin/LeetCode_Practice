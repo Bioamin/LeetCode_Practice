{
 "cells": [
  {
   "cell_type": "code",
   "execution_count": 130,
   "metadata": {},
   "outputs": [
    {
     "data": {
      "text/plain": [
       "1"
      ]
     },
     "execution_count": 130,
     "metadata": {},
     "output_type": "execute_result"
    }
   ],
   "source": [
    "5%2"
   ]
  },
  {
   "cell_type": "code",
   "execution_count": null,
   "metadata": {},
   "outputs": [],
   "source": [
    ">>>hello\n"
   ]
  },
  {
   "cell_type": "code",
   "execution_count": 115,
   "metadata": {},
   "outputs": [
    {
     "name": "stdout",
     "output_type": "stream",
     "text": [
      "dlroW olleH\n"
     ]
    }
   ],
   "source": [
    "txt = \"Hello World\"[::-1]\n",
    "print(txt)\n",
    "\n"
   ]
  },
  {
   "cell_type": "code",
   "execution_count": 128,
   "metadata": {},
   "outputs": [
    {
     "name": "stdout",
     "output_type": "stream",
     "text": [
      "10\n",
      "01\n",
      "False\n"
     ]
    }
   ],
   "source": [
    "x= 10\n",
    "x=str(x)\n",
    "print(x)\n",
    "print(x [::-1])\n",
    "return x == x [::-1]:\n",
    "    print(\"True\")\n",
    "else:\n",
    "    print(\"False\")"
   ]
  },
  {
   "cell_type": "code",
   "execution_count": null,
   "metadata": {},
   "outputs": [],
   "source": [
    "boxTypes = [[2,1],[4,4],[3,1],[4,1],[2,4],[3,4],[1,3],[4,3],[5,3],[5,3]]\n",
    "truckSize = 13\n",
    "unit=0\n",
    "boxTypes=sorted(boxTypes, key=lambda x: -x[1])\n",
    "for i,j in boxTypes:\n",
    "    if truckSize < j[0]:\n",
    "        unit+=(truckSize*j[1])\n",
    "        truckSize=truckSize-truckSize \n",
    "    if truckSize>= j[0]:\n",
    "        truckSize=truckSize-j[0]\n",
    "        unit+=(j[0]*j[1])\n"
   ]
  },
  {
   "cell_type": "code",
   "execution_count": 114,
   "metadata": {},
   "outputs": [
    {
     "name": "stdout",
     "output_type": "stream",
     "text": [
      "[[4, 4], [2, 4], [3, 4], [1, 3], [4, 3], [5, 3], [5, 3], [2, 1], [3, 1], [4, 1]]\n",
      "4 4\n",
      "4\n",
      "2 4\n",
      "2\n",
      "3 4\n",
      "3\n",
      "1 3\n",
      "1\n",
      "4 3\n",
      "3\n",
      "5 3\n",
      "3\n",
      "5 3\n",
      "3\n",
      "2 1\n",
      "1\n",
      "3 1\n",
      "1\n",
      "4 1\n",
      "1\n"
     ]
    }
   ],
   "source": [
    "boxTypes = [[2,1],[4,4],[3,1],[4,1],[2,4],[3,4],[1,3],[4,3],[5,3],[5,3]]\n",
    "truckSize = 13\n",
    "unit=0\n",
    "boxTypes=sorted(boxTypes, key=lambda x: -x[1])\n",
    "print(boxTypes)\n",
    "for i,j in boxTypes:\n",
    "    print(i,j)\n",
    "    print(min(i,j))\n",
    "\n",
    "\n"
   ]
  },
  {
   "cell_type": "code",
   "execution_count": 102,
   "metadata": {},
   "outputs": [
    {
     "name": "stdout",
     "output_type": "stream",
     "text": [
      "[2, 1]\n",
      "[1] 2\n",
      "[4, 4]\n",
      "[4] 4\n",
      "[3, 1]\n",
      "[1] 3\n",
      "[4, 1]\n",
      "[1] 4\n",
      "[2, 4]\n",
      "[4] 2\n",
      "[3, 4]\n",
      "[4] 3\n",
      "[1, 3]\n",
      "[3] 1\n",
      "[4, 3]\n",
      "[3] 4\n",
      "[5, 3]\n",
      "[3] 5\n",
      "[5, 3]\n",
      "[3] 5\n",
      "{1: 4, 4: 3, 3: 5}\n",
      "{4: 3, 3: 5, 1: 4}\n",
      "units= 31\n"
     ]
    }
   ],
   "source": [
    "boxTypes = [[2,1],[4,4],[3,1],[4,1],[2,4],[3,4],[1,3],[4,3],[5,3],[5,3]]\n",
    "truckSize = 13\n",
    "unit=0\n",
    "boxTypes_dict={}\n",
    "\n",
    "for i in boxTypes:\n",
    "    print(i)\n",
    "    print([i[1]],i[0])\n",
    "    boxTypes_dict[i[1]]=i[0]\n",
    "print(boxTypes_dict)    \n",
    "#boxTypes_dict=dict(sorted(boxTypes_dict.items(), reverse= True))\n",
    "print(boxTypes_dict)\n",
    "for j in boxTypes_dict:\n",
    "    if truckSize < boxTypes_dict[j]:\n",
    "        unit+=(truckSize*j)\n",
    "        truckSize=truckSize-truckSize \n",
    "    if truckSize>= boxTypes_dict[j]:\n",
    "        truckSize=truckSize-boxTypes_dict[j]\n",
    "        unit+=(j*boxTypes_dict[j])\n",
    "print(\"units=\", unit)\n",
    "\n",
    "#print(unit)\n",
    "\n",
    "\n",
    "\n",
    "\n",
    "\n",
    "# print(boxTypes_dict)\n",
    "# for j in boxTypes_dict:\n",
    "#     print(j)\n",
    "#     if truckSize >= boxTypes_dict[j]:\n",
    "#         truckSize=truckSize-boxTypes_dict[j]\n",
    "#         unit+= (j*boxTypes_dict[j])\n",
    "#     else:\n",
    "#         truckSize=truckSize-truckSize\n",
    "#         unit+=(truckSize*boxTypes_dict[j])\n",
    "# print(unit)\n",
    "    \n",
    "    \n",
    "    \n"
   ]
  },
  {
   "cell_type": "code",
   "execution_count": 66,
   "metadata": {},
   "outputs": [
    {
     "name": "stdout",
     "output_type": "stream",
     "text": [
      "MMMMMMMMMMMCCCLVI\n"
     ]
    }
   ],
   "source": [
    "num=11356\n",
    "romannumber=\"\"\n",
    "romandict={1000:\"M\", 900: \"CM\", 500:\"D\", 400:\"CD\",100:\"C\",\n",
    "           90:\"XC\", 50:\"L\", 40:\"XL\", 10:\"X\",\n",
    "           9:\"IX\", 5:\"V\", 4:\"IV\",1:\"I\"}\n",
    "for i in romandict:\n",
    "    q,r=divmod(num,i)\n",
    "    romannumber= romannumber+ ( q*romandict[i])\n",
    "    num=r\n",
    "print(romannumber)"
   ]
  },
  {
   "cell_type": "code",
   "execution_count": 43,
   "metadata": {},
   "outputs": [
    {
     "data": {
      "text/plain": [
       "'BBNNGGkekek'"
      ]
     },
     "execution_count": 43,
     "metadata": {},
     "output_type": "execute_result"
    }
   ],
   "source": [
    "string=\"BBNNGG\"\n",
    "string=string+\"kekek\"\n",
    "string\n"
   ]
  },
  {
   "cell_type": "code",
   "execution_count": 36,
   "metadata": {},
   "outputs": [
    {
     "name": "stdout",
     "output_type": "stream",
     "text": [
      "0 90\n"
     ]
    }
   ],
   "source": [
    "q,r=divmod(90,100)\n",
    "print(q,r)"
   ]
  },
  {
   "cell_type": "code",
   "execution_count": 30,
   "metadata": {},
   "outputs": [],
   "source": [
    "def romanToInt_1 (s):\n",
    "    romandict={\"I\":1, \"V\":5, \"X\":10, \"L\":50, \"C\":100, \"D\":500, \"M\":1000}\n",
    "    i=0\n",
    "    total=0\n",
    "    while i < len(s):\n",
    "        if len(s)-i >= 2 and romandict[s[i]]< romandict[s[i+1]]:\n",
    "                total+=(romandict[s[i+1]]-romandict[s[i]])\n",
    "                i+=2\n",
    "        else:\n",
    "            total+=romandict[s[i]]\n",
    "            i+=1\n",
    "    return(total)\n",
    "            "
   ]
  },
  {
   "cell_type": "code",
   "execution_count": 31,
   "metadata": {},
   "outputs": [
    {
     "data": {
      "text/plain": [
       "1994"
      ]
     },
     "execution_count": 31,
     "metadata": {},
     "output_type": "execute_result"
    }
   ],
   "source": [
    "s=\"MCMXCIV\"\n",
    "romanToInt_1 (s)\n"
   ]
  },
  {
   "cell_type": "code",
   "execution_count": 15,
   "metadata": {},
   "outputs": [
    {
     "data": {
      "text/plain": [
       "'I'"
      ]
     },
     "execution_count": 15,
     "metadata": {},
     "output_type": "execute_result"
    }
   ],
   "source": [
    "s=\"XVIIVIVIXLCD\"\n",
    "s[2]\n",
    "romandict[\"V\"]"
   ]
  },
  {
   "cell_type": "code",
   "execution_count": null,
   "metadata": {},
   "outputs": [],
   "source": []
  }
 ],
 "metadata": {
  "kernelspec": {
   "display_name": "Python 3",
   "language": "python",
   "name": "python3"
  },
  "language_info": {
   "codemirror_mode": {
    "name": "ipython",
    "version": 3
   },
   "file_extension": ".py",
   "mimetype": "text/x-python",
   "name": "python",
   "nbconvert_exporter": "python",
   "pygments_lexer": "ipython3",
   "version": "3.8.5"
  }
 },
 "nbformat": 4,
 "nbformat_minor": 4
}
